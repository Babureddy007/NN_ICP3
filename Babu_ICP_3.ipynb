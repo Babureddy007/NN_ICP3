{
  "cells": [
    {
      "cell_type": "markdown",
      "id": "cc96168a",
      "metadata": {
        "id": "cc96168a"
      },
      "source": [
        "# Spring 2024: CS5720\n",
        "## Neural Networks & Deep Learning - ICP-3"
      ]
    },
    {
      "cell_type": "code",
      "execution_count": 1,
      "id": "c0621a84",
      "metadata": {
        "id": "c0621a84"
      },
      "outputs": [],
      "source": [
        "# importing necessary libraries for the assignment\n",
        "import numpy as np"
      ]
    },
    {
      "cell_type": "markdown",
      "id": "8b1283c3",
      "metadata": {
        "id": "8b1283c3"
      },
      "source": [
        "#### 1.Create a class Employee and then do the following\n",
        "    - • Create a data member to count the number of Employees\n",
        "    - • Create a constructor to initialize name, family, salary, department\n",
        "    - • Create a function to average salary\n",
        "    - • Create a Fulltime Employee class and it should inherit the properties of Employee class\n",
        "    - • Create the instances of Fulltime Employee class and Employee class and call their member functions."
      ]
    },
    {
      "cell_type": "code",
      "execution_count": 2,
      "id": "d20c4d37",
      "metadata": {
        "colab": {
          "base_uri": "https://localhost:8080/"
        },
        "id": "d20c4d37",
        "outputId": "0cef7b7b-6f16-475b-a492-2ffcea6a3527"
      },
      "outputs": [
        {
          "output_type": "stream",
          "name": "stdout",
          "text": [
            "using employee class 407500.0\n",
            "using fulltime employee class 407500.0\n"
          ]
        }
      ],
      "source": [
        "# created class Employee\n",
        "class Employee():\n",
        "    # create data members to keep count of employee count and list of salaries\n",
        "    emp_count = 0\n",
        "\n",
        "    # constructor to initilize the variables\n",
        "    def __init__(self,name:str,family:str,salary:float,department:str):\n",
        "        self.name = name,\n",
        "        self.family = family,\n",
        "        self.salary = salary,\n",
        "        self.department = department,\n",
        "        Employee.emp_count += 1\n",
        "\n",
        "    # funtion to return average of salary\n",
        "    def avg_salary(employees:list):\n",
        "        # calculate salaries average\n",
        "        salaries_list = [emp.salary[0] for emp in employees]\n",
        "        # avg_sal = sum(salaries_list)/Employee.emp_count     # method 1\n",
        "        avg_sal = np.mean(salaries_list)                      # method 2\n",
        "        return avg_sal\n",
        "\n",
        "# created FullTimeEmployee class and inherit the properties from Employee class\n",
        "class FullTimeEmployee(Employee):\n",
        "    def __init__(self,name:str,family:int,salary:float,department:str):\n",
        "        # calling parent class constructor\n",
        "        super().__init__(name,family,salary,department)\n",
        "\n",
        "employees = []\n",
        "employees.append(Employee(\"Babu\",\"Chiripireddy\",240000,\"analytics\"))\n",
        "employees.append(Employee(\"Doctor\",\"Chiripireddy\",540000,\"CTO\"))\n",
        "\n",
        "employees.append(FullTimeEmployee(\"Babu Doctor\",\"Chiripireddy\",320000,\"data science\"))\n",
        "employees.append(FullTimeEmployee(\"Keshav\",\"Chiripireddy\",530000,\"data analytics\"))\n",
        "\n",
        "\n",
        "print(\"using employee class\",Employee.avg_salary(employees))\n",
        "print(\"using fulltime employee class\",FullTimeEmployee.avg_salary(employees))"
      ]
    },
    {
      "cell_type": "markdown",
      "id": "26ed0c91",
      "metadata": {
        "id": "26ed0c91"
      },
      "source": [
        "#### 2. Using NumPy create random vector of size 20 having only float in the range 1-20.\n",
        "    -Then reshape the array to 4 by 5\n",
        "    -Then replace the max in each row by 0 (axis=1)\n",
        "(you can NOT implement it via for loop)"
      ]
    },
    {
      "cell_type": "code",
      "execution_count": 3,
      "id": "f7a43f89",
      "metadata": {
        "id": "f7a43f89"
      },
      "outputs": [],
      "source": [
        "arr = np.random.uniform(1,20,20) # created a random vector of size 20 in the range of 1 - 20.\n",
        "arr = arr.reshape(4,5) # reshaped the vector to array of (4,5) shape"
      ]
    },
    {
      "cell_type": "code",
      "execution_count": 4,
      "id": "a5925cdd",
      "metadata": {
        "colab": {
          "base_uri": "https://localhost:8080/"
        },
        "id": "a5925cdd",
        "outputId": "d78f2f68-c506-4761-ee2c-5c4c15204b1a"
      },
      "outputs": [
        {
          "output_type": "stream",
          "name": "stdout",
          "text": [
            "array before :\n",
            "\n",
            " [[14.2168244   2.04534141 13.35548433 10.49760355  4.2674892 ]\n",
            " [17.04628328  1.84760272  3.05846527  8.32512186  1.88421588]\n",
            " [14.15522587 13.99637392 13.69461689  8.96670721 16.32059081]\n",
            " [18.38204212 11.18265376  9.21382361 18.82184366 14.67796129]]\n",
            "\n",
            "\n",
            "array after replace the max element of each row with 1: \n",
            "\n",
            " [[ 1.          2.04534141 13.35548433 10.49760355  4.2674892 ]\n",
            " [ 1.          1.84760272  3.05846527  8.32512186  1.88421588]\n",
            " [14.15522587 13.99637392 13.69461689  8.96670721  1.        ]\n",
            " [18.38204212 11.18265376  9.21382361  1.         14.67796129]]\n"
          ]
        }
      ],
      "source": [
        "# replace the max in each row by 0 (axis = 1)\n",
        "\n",
        "# print array before replacement\n",
        "print(\"array before :\\n\\n\",arr,end=\"\\n\\n\\n\")\n",
        "\n",
        "# get max elements of each row and reshape it\n",
        "row_wise_max = np.max(arr,axis = 1).reshape(-1,1)\n",
        "\n",
        "arr[arr == row_wise_max] = 1\n",
        "\n",
        "# print array after replacement\n",
        "print(\"array after replace the max element of each row with 1: \\n\\n\", arr)"
      ]
    },
    {
      "cell_type": "code",
      "execution_count": null,
      "id": "571557c1",
      "metadata": {
        "id": "571557c1"
      },
      "outputs": [],
      "source": []
    }
  ],
  "metadata": {
    "kernelspec": {
      "display_name": "Python 3 (ipykernel)",
      "language": "python",
      "name": "python3"
    },
    "language_info": {
      "codemirror_mode": {
        "name": "ipython",
        "version": 3
      },
      "file_extension": ".py",
      "mimetype": "text/x-python",
      "name": "python",
      "nbconvert_exporter": "python",
      "pygments_lexer": "ipython3",
      "version": "3.9.7"
    },
    "colab": {
      "provenance": []
    }
  },
  "nbformat": 4,
  "nbformat_minor": 5
}